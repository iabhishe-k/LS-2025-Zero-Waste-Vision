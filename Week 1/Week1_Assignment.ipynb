{
 "cells": [
  {
   "cell_type": "markdown",
   "id": "7453fd94",
   "metadata": {},
   "source": [
    "## Problem 1"
   ]
  },
  {
   "cell_type": "code",
   "execution_count": 1,
   "id": "05643228",
   "metadata": {},
   "outputs": [],
   "source": [
    "import numpy as np\n",
    "import cv2\n",
    "import matplotlib.pyplot as plt"
   ]
  },
  {
   "cell_type": "code",
   "execution_count": 2,
   "id": "ff4f0e05",
   "metadata": {},
   "outputs": [
    {
     "data": {
      "text/plain": [
       "array([[  0, 235, 220, 215, 239, 123, 139, 251,   0, 209, 157, 190,   0,\n",
       "          0, 204],\n",
       "       [132, 191,   0,   0,   0, 143, 211,   0, 192,   0,   0,   0,   0,\n",
       "          0,   0],\n",
       "       [206, 226,   0,   0,   0,   0, 239, 249,   0,   0, 196,   0, 151,\n",
       "          0, 127],\n",
       "       [213, 126, 168,   0, 181, 132,   0, 177,   0,   0, 202, 124, 186,\n",
       "        203, 246],\n",
       "       [  0, 221, 141, 245, 251, 129,   0,   0,   0,   0, 179,   0, 145,\n",
       "        183, 122],\n",
       "       [240,   0,   0, 212, 137, 151, 191,   0, 223,   0, 138, 155, 198,\n",
       "        199,   0],\n",
       "       [188,   0, 146, 159,   0,   0, 235, 195, 228,   0, 205, 129, 212,\n",
       "          0, 140],\n",
       "       [166,   0,   0, 186,   0,   0, 155, 155,   0,   0, 172, 189, 187,\n",
       "        246,   0],\n",
       "       [  0, 193, 241,   0, 174, 236, 212, 208,   0,   0,   0, 174,   0,\n",
       "          0, 162],\n",
       "       [204, 159, 167, 214, 164, 184,   0, 208,   0,   0,   0,   0,   0,\n",
       "        210, 167],\n",
       "       [  0,   0, 221, 138,   0, 227,   0,   0, 223, 241, 126,   0, 132,\n",
       "          0, 254],\n",
       "       [225, 206,   0,   0, 143,   0, 141, 135,   0, 245,   0,   0, 237,\n",
       "        219,   0],\n",
       "       [173,   0, 221,   0, 177,   0, 242,   0, 231, 203, 202,   0, 200,\n",
       "          0, 196],\n",
       "       [  0,   0,   0, 194,   0, 136,   0, 138, 220, 226,   0,   0, 189,\n",
       "        145,   0],\n",
       "       [121, 217,   0, 229,   0,   0,   0, 229, 159,   0,   0, 174, 214,\n",
       "        235,   0]])"
      ]
     },
     "execution_count": 2,
     "metadata": {},
     "output_type": "execute_result"
    }
   ],
   "source": [
    "# Task 1.1\n",
    "arr1 = np.random.randint(0, 256, (15, 15))\n",
    "thresholded = np.where(arr1 < 120, 0, arr1)\n",
    "thresholded"
   ]
  },
  {
   "cell_type": "code",
   "execution_count": 3,
   "id": "423b85c5",
   "metadata": {},
   "outputs": [
    {
     "name": "stdout",
     "output_type": "stream",
     "text": [
      "Boundary Elements: [100 235 220 215 239 123 139 251 118 209 157 190  17  43 204  67 127 246\n",
      " 122  23 140  17 162 167 254  21 196  21 101 235 214 174  81  47 159 229\n",
      "  75  14 108 229  72 217 121  84 173 225  78 204  25 166 188 240  86 213\n",
      " 206 132]\n"
     ]
    }
   ],
   "source": [
    "# Task 1.2\n",
    "def boundary_transversal(matrix):\n",
    "    top = matrix[0]\n",
    "    right = matrix[1:-1, -1]\n",
    "    bottom = matrix[-1][::-1]\n",
    "    left = matrix[-2:0:-1, 0]\n",
    "    boundary = np.concatenate([top, right, bottom, left])\n",
    "    print(\"Boundary Elements:\", boundary)\n",
    "\n",
    "boundary_transversal(arr1)"
   ]
  },
  {
   "cell_type": "code",
   "execution_count": 4,
   "id": "d7cdfac3",
   "metadata": {},
   "outputs": [
    {
     "data": {
      "text/plain": [
       "array([[1, 0, 1, 0, 0, 0, 0, 0, 1, 0, 0, 1, 0, 0, 1],\n",
       "       [1, 0, 0, 0, 1, 0, 0, 0, 1, 0, 0, 1, 0, 0, 0],\n",
       "       [1, 1, 0, 1, 0, 1, 0, 0, 0, 1, 1, 0, 0, 1, 0],\n",
       "       [0, 1, 1, 0, 0, 1, 1, 0, 0, 0, 1, 1, 1, 0, 1],\n",
       "       [1, 0, 0, 0, 0, 0, 1, 0, 1, 0, 0, 0, 0, 0, 1],\n",
       "       [1, 0, 0, 1, 0, 0, 0, 1, 0, 1, 1, 0, 1, 0, 0],\n",
       "       [1, 1, 1, 0, 1, 1, 0, 0, 1, 0, 0, 0, 1, 0, 1],\n",
       "       [1, 0, 1, 1, 1, 1, 0, 0, 1, 1, 1, 0, 0, 1, 0],\n",
       "       [0, 0, 0, 1, 1, 1, 1, 1, 1, 0, 1, 1, 0, 1, 1],\n",
       "       [1, 0, 0, 1, 1, 1, 1, 1, 0, 1, 0, 1, 0, 1, 0],\n",
       "       [1, 1, 0, 1, 0, 0, 1, 0, 0, 0, 1, 0, 1, 0, 1],\n",
       "       [0, 1, 0, 1, 0, 1, 0, 0, 0, 0, 0, 1, 0, 0, 0],\n",
       "       [0, 0, 0, 1, 0, 0, 1, 1, 0, 0, 1, 1, 1, 1, 1],\n",
       "       [1, 0, 0, 1, 0, 1, 0, 1, 1, 1, 1, 1, 0, 0, 0],\n",
       "       [0, 0, 1, 0, 1, 1, 0, 0, 0, 0, 0, 1, 1, 0, 0]])"
      ]
     },
     "execution_count": 4,
     "metadata": {},
     "output_type": "execute_result"
    }
   ],
   "source": [
    "# Task 1.3\n",
    "binary_array = np.where(arr1 % 2 == 0, 1, 0)\n",
    "binary_array"
   ]
  },
  {
   "cell_type": "markdown",
   "id": "358cc50f",
   "metadata": {},
   "source": [
    "## Problem 2"
   ]
  },
  {
   "cell_type": "code",
   "execution_count": 5,
   "id": "568f0fa1",
   "metadata": {},
   "outputs": [
    {
     "name": "stdout",
     "output_type": "stream",
     "text": [
      "Row-wise Max: [250 250 253 254 240 249 254 254 254 252 245 255 234 252 215 254 247 251\n",
      " 241 249]\n",
      "Row-wise Min: [ 2 16  5  0  8 53  0  7  5 22  0  7  0 24 22 13  5  8  0 28]\n",
      "Row-wise Median: [132.  110.5 118.   98.5 125.5 147.  131.5 162.5 126.  124.  125.5  74.\n",
      " 110.  165.5 119.5 131.  172.5 135.  124.5 104.5]\n",
      "Column-wise Max: [211 250 250 254 253 252 250 238 251 240 238 227 243 247 242 254 225 255\n",
      " 202 254]\n",
      "Column-wise Min: [ 8 12  6  0  0  7  0 13 13  3  0  1  2 24  9  0 15 19  5 10]\n",
      "Column-wise Median: [ 85.  167.  110.5 133.5 121.  173.5 125.5 174.  143.5  88.5 113.5 110.5\n",
      " 135.  164.  125.  173.5 115.  120.   90.5 147. ]\n"
     ]
    }
   ],
   "source": [
    "# Task 2.1\n",
    "arr2 = np.random.randint(0, 256, (20, 20))\n",
    "print(\"Row-wise Max:\", np.max(arr2, axis=1))\n",
    "print(\"Row-wise Min:\", np.min(arr2, axis=1))\n",
    "print(\"Row-wise Median:\", np.median(arr2, axis=1))\n",
    "print(\"Column-wise Max:\", np.max(arr2, axis=0))\n",
    "print(\"Column-wise Min:\", np.min(arr2, axis=0))\n",
    "print(\"Column-wise Median:\", np.median(arr2, axis=0))"
   ]
  },
  {
   "cell_type": "code",
   "execution_count": 6,
   "id": "684720fa",
   "metadata": {},
   "outputs": [],
   "source": [
    "# Task 2.2\n",
    "img = arr2.astype(np.uint8)\n",
    "resized_img = cv2.resize(img, (200, 200), interpolation=cv2.INTER_NEAREST)\n",
    "cv2.imshow('Nearest Neighbor Interpolation',resized_img)\n",
    "cv2.waitKey(0)\n",
    "cv2.destroyAllWindows()"
   ]
  },
  {
   "cell_type": "code",
   "execution_count": 7,
   "id": "1c10bf0e",
   "metadata": {},
   "outputs": [],
   "source": [
    "# Task 2.3\n",
    "h_grad = np.tile(np.arange(256, dtype=np.uint8), (256, 1))\n",
    "v_grad = np.tile(np.arange(256, dtype=np.uint8).reshape(-1, 1), (1, 256))\n",
    "\n",
    "cv2.imshow(\"Horizontal Gradient\", h_grad)\n",
    "cv2.waitKey(0)\n",
    "cv2.destroyAllWindows()"
   ]
  },
  {
   "cell_type": "code",
   "execution_count": 8,
   "id": "bf0cd6e2",
   "metadata": {},
   "outputs": [],
   "source": [
    "cv2.imshow(\"Vertical Gradient\", v_grad)\n",
    "cv2.waitKey(0)\n",
    "cv2.destroyAllWindows()"
   ]
  },
  {
   "cell_type": "markdown",
   "id": "dd04c74f",
   "metadata": {},
   "source": [
    "## Problem 3"
   ]
  },
  {
   "cell_type": "code",
   "execution_count": 9,
   "id": "aa3663ef",
   "metadata": {},
   "outputs": [],
   "source": [
    "img_gray = cv2.imread(\"sample.jpg\", cv2.IMREAD_GRAYSCALE)\n",
    "img_color = cv2.imread(\"sample.jpg\")\n",
    "(h,w) = img_color.shape[:2]\n",
    "img_color = cv2.resize(img_color, (w//3,h//3))\n",
    "img_gray = cv2.resize(img_gray, (w//3,h//3))\n",
    "cv2.imshow('Grayscale Image',img_gray)\n",
    "cv2.waitKey(0)\n",
    "cv2.destroyAllWindows()"
   ]
  },
  {
   "cell_type": "code",
   "execution_count": 10,
   "id": "4ef21579",
   "metadata": {},
   "outputs": [],
   "source": [
    "# Task 3.1: Invert grayscale image\n",
    "inverted = 255 - img_gray\n",
    "cv2.imshow('Inverted Grayscale Image',inverted)\n",
    "cv2.waitKey(0)\n",
    "cv2.destroyAllWindows()"
   ]
  },
  {
   "cell_type": "code",
   "execution_count": 11,
   "id": "0baa32fe",
   "metadata": {},
   "outputs": [],
   "source": [
    "# Task 3.2: Zero red channel\n",
    "b, g, r = cv2.split(img_color)\n",
    "r[:] = 0\n",
    "merged = cv2.merge([b, g, r])\n",
    "cv2.imshow(\"Red Channel Zeroed\",merged)\n",
    "cv2.waitKey(0)\n",
    "cv2.destroyAllWindows()"
   ]
  },
  {
   "cell_type": "code",
   "execution_count": 12,
   "id": "eaf92107",
   "metadata": {},
   "outputs": [],
   "source": [
    "# Task 3.3\n",
    "\n",
    "h_flip = cv2.flip(img_color, 1)\n",
    "v_flip = cv2.flip(img_color, 0)\n",
    "mirror = cv2.flip(img_color, 1)\n",
    "h_stack = np.hstack((img_color,h_flip))\n",
    "v_stack = np.hstack((img_color,v_flip))\n",
    "m_stack = np.hstack((img_color,mirror))"
   ]
  },
  {
   "cell_type": "code",
   "execution_count": 13,
   "id": "bf77f1c9",
   "metadata": {},
   "outputs": [],
   "source": [
    "cv2.imshow(\"Horizontal Flip\",h_stack)\n",
    "cv2.waitKey(0)\n",
    "cv2.destroyAllWindows()"
   ]
  },
  {
   "cell_type": "code",
   "execution_count": 14,
   "id": "806ff860",
   "metadata": {},
   "outputs": [],
   "source": [
    "cv2.imshow(\"Vertical Flip\",v_stack)\n",
    "cv2.waitKey(0)\n",
    "cv2.destroyAllWindows()"
   ]
  },
  {
   "cell_type": "code",
   "execution_count": 15,
   "id": "4cff4db5",
   "metadata": {},
   "outputs": [],
   "source": [
    "cv2.imshow(\"Mirrored Image\",m_stack)\n",
    "cv2.waitKey(0)\n",
    "cv2.destroyAllWindows()"
   ]
  },
  {
   "cell_type": "markdown",
   "id": "4077ff27",
   "metadata": {},
   "source": [
    "## Problem 4"
   ]
  },
  {
   "cell_type": "code",
   "execution_count": 16,
   "id": "c9d9baac",
   "metadata": {},
   "outputs": [
    {
     "name": "stdout",
     "output_type": "stream",
     "text": [
      "Image shape: (426, 320, 3)\n",
      "Pixel (0,0) BGR values: [56 69 53]\n"
     ]
    }
   ],
   "source": [
    "# Task 4.1: Image info\n",
    "print(\"Image shape:\", img_color.shape)\n",
    "print(\"Pixel (0,0) BGR values:\", img_color[0, 0])"
   ]
  },
  {
   "cell_type": "code",
   "execution_count": 17,
   "id": "b446203a",
   "metadata": {},
   "outputs": [],
   "source": [
    "# Task 4.2: Manual grayscale conversion\n",
    "def to_grayscale(image):\n",
    "    return np.dot(image[...,:3], [0.114, 0.587, 0.299]).astype(np.uint8)\n",
    "\n",
    "gray_manual = to_grayscale(img_color)\n",
    "cv2.imshow(\"Manual Grayscale Image\",gray_manual)\n",
    "cv2.waitKey(0)\n",
    "cv2.destroyAllWindows()"
   ]
  },
  {
   "cell_type": "code",
   "execution_count": 18,
   "id": "55d50a4d",
   "metadata": {},
   "outputs": [
    {
     "name": "stdout",
     "output_type": "stream",
     "text": [
      "Number of pure white pixels: 0\n"
     ]
    }
   ],
   "source": [
    "# Task 4.3: Count white pixels\n",
    "white_pixel_count = np.sum(np.all(img_color == [255, 255, 255], axis=2))\n",
    "print(\"Number of pure white pixels:\", white_pixel_count)"
   ]
  },
  {
   "cell_type": "markdown",
   "id": "c3a9d4e1",
   "metadata": {},
   "source": [
    "## Problem 5"
   ]
  },
  {
   "cell_type": "code",
   "execution_count": 19,
   "id": "1921600c",
   "metadata": {},
   "outputs": [],
   "source": [
    "# Task 5.1: Grayscale + Gaussian Blur\n",
    "gray_img = cv2.cvtColor(img_color, cv2.COLOR_BGR2GRAY)\n",
    "blurred = cv2.GaussianBlur(gray_img, (9, 9), 0)\n",
    "cv2.imshow(\"Blurred Grayscale\",blurred)\n",
    "cv2.waitKey(0)\n",
    "cv2.destroyAllWindows()"
   ]
  },
  {
   "cell_type": "code",
   "execution_count": 20,
   "id": "a9b50137",
   "metadata": {},
   "outputs": [],
   "source": [
    "# Task 5.2: Subtract from white image\n",
    "white_img = np.full_like(blurred, 255)\n",
    "subtracted = cv2.subtract(white_img, blurred)\n",
    "cv2.imshow(\"White - Blurred Image\",subtracted)\n",
    "cv2.waitKey(0)\n",
    "cv2.destroyAllWindows()"
   ]
  },
  {
   "cell_type": "code",
   "execution_count": 21,
   "id": "4490584d",
   "metadata": {},
   "outputs": [],
   "source": [
    "# Task 5.3: Drawing on blank image\n",
    "canvas = np.zeros((512, 512, 3), dtype=np.uint8)\n",
    "cv2.rectangle(canvas, (50, 50), (462, 462), (255, 0, 0), 3)\n",
    "cv2.circle(canvas, (300, 300), 50, (0, 255, 0), -1)\n",
    "cv2.line(canvas, (511, 0), (0, 511), (0, 0, 255), 2)\n",
    "cv2.imshow(\"Shapes on Canvas\",canvas)\n",
    "cv2.waitKey(0)\n",
    "cv2.destroyAllWindows()"
   ]
  },
  {
   "cell_type": "code",
   "execution_count": null,
   "id": "f75cb91b",
   "metadata": {},
   "outputs": [],
   "source": []
  }
 ],
 "metadata": {
  "kernelspec": {
   "display_name": "Python 3",
   "language": "python",
   "name": "python3"
  },
  "language_info": {
   "codemirror_mode": {
    "name": "ipython",
    "version": 3
   },
   "file_extension": ".py",
   "mimetype": "text/x-python",
   "name": "python",
   "nbconvert_exporter": "python",
   "pygments_lexer": "ipython3",
   "version": "3.12.2"
  }
 },
 "nbformat": 4,
 "nbformat_minor": 5
}
